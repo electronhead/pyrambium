{
 "metadata": {
  "language_info": {
   "codemirror_mode": {
    "name": "ipython",
    "version": 3
   },
   "file_extension": ".py",
   "mimetype": "text/x-python",
   "name": "python",
   "nbconvert_exporter": "python",
   "pygments_lexer": "ipython3",
   "version": "3.9.0-final"
  },
  "orig_nbformat": 2,
  "kernelspec": {
   "name": "python3",
   "display_name": "Python 3",
   "language": "python"
  }
 },
 "nbformat": 4,
 "nbformat_minor": 2,
 "cells": [
  {
   "cell_type": "code",
   "execution_count": 4,
   "metadata": {},
   "outputs": [],
   "source": [
    "from pyrambium.base.service.scheduler import TimelyScheduler, RandomlyScheduler\n",
    "from pyrambium.base.service.action import FileHeartbeat\n",
    "from pyrambium.base.service.continuous import Continuous\n",
    "from pyrambium.base.service.mothership import Mothership\n",
    "from pyrambium.base.service.util import TimeUnit, PP, Dirs\n",
    "from datetime import time\n",
    "\n",
    "saved_dir = Dirs.saved_dir()\n",
    "saved_subdir = 'api_testing'\n",
    "new_saved_dir = f\"{saved_dir}/{saved_subdir}/\"\n",
    "mothership = Mothership(saved_dir=new_saved_dir)\n",
    "mothership.clear_all()\n",
    "\n",
    "output_dir = Dirs.output_dir()\n",
    "mothership.add_scheduler('randomly_short', RandomlyScheduler(time_unit=TimeUnit.second, low=10, high=20))\n",
    "morning, evening = time(6,0,0), time(18,0,0)\n",
    "mothership.add_scheduler('timely_day', TimelyScheduler(interval=1, second=0, start=morning, stop=evening))\n",
    "mothership.add_scheduler('timely_night', TimelyScheduler(interval=1, second=0, start=evening, stop=morning))\n",
    "heartbeat_file = f\"{output_dir}heartbeat1.txt\"\n",
    "mothership.add_action('heartbeat1', FileHeartbeat(file=heartbeat_file))\n",
    "heartbeat_file = f\"{output_dir}heartbeat2.txt\"\n",
    "mothership.add_action('heartbeat2', FileHeartbeat(file=heartbeat_file))\n",
    "mothership.schedule_action(scheduler_name='timely_day', action_name='heartbeat1')\n",
    "mothership.schedule_action(scheduler_name='timely_night', action_name='heartbeat2')"
   ]
  },
  {
   "cell_type": "code",
   "execution_count": 5,
   "metadata": {},
   "outputs": [
    {
     "output_type": "stream",
     "name": "stdout",
     "text": [
      "{ 'actions': { 'heartbeat1': { 'file': '/tmp/pyrambium/output/heartbeat1.txt',\n                               'xtra': None},\n               'heartbeat2': { 'file': '/tmp/pyrambium/output/heartbeat2.txt',\n                               'xtra': None}},\n  'saved_dir': '/tmp/pyrambium/saved//api_testing/',\n  'schedulers': { 'randomly_short': { 'high': 20,\n                                      'low': 10,\n                                      'start': None,\n                                      'stop': None,\n                                      'time_unit': <TimeUnit.second: 'second'>},\n                  'timely_day': { 'hour': None,\n                                  'interval': 1,\n                                  'minute': None,\n                                  'second': 0,\n                                  'start': datetime.time(6, 0),\n                                  'stop': datetime.time(18, 0)},\n                  'timely_night': { 'hour': None,\n                                    'interval': 1,\n                                    'minute': None,\n                                    'second': 0,\n                                    'start': datetime.time(18, 0),\n                                    'stop': datetime.time(6, 0)}},\n  'schedulers_actions': { 'randomly_short': [],\n                          'timely_day': ['heartbeat1'],\n                          'timely_night': ['heartbeat2']}}\n"
     ]
    }
   ],
   "source": [
    "mothership.pprint()"
   ]
  },
  {
   "cell_type": "code",
   "execution_count": 6,
   "metadata": {},
   "outputs": [
    {
     "output_type": "stream",
     "name": "stdout",
     "text": [
      "started running continuously at 10:30:33 on 2021-01-28\n"
     ]
    }
   ],
   "source": [
    "Continuous.get().run_continuously(1)"
   ]
  },
  {
   "cell_type": "code",
   "execution_count": 7,
   "metadata": {},
   "outputs": [
    {
     "output_type": "stream",
     "name": "stdout",
     "text": [
      "continuous run stopped at 10:31:01 on 2021-01-28\n"
     ]
    }
   ],
   "source": [
    "Continuous.get().stop_running_continuously()"
   ]
  },
  {
   "cell_type": "code",
   "execution_count": null,
   "metadata": {},
   "outputs": [],
   "source": [
    "mothership.execute_action('heartbeat1')"
   ]
  },
  {
   "cell_type": "code",
   "execution_count": null,
   "metadata": {},
   "outputs": [],
   "source": [
    "mothership.execute_action('heartbeat2')"
   ]
  },
  {
   "cell_type": "code",
   "execution_count": 1,
   "metadata": {},
   "outputs": [
    {
     "output_type": "error",
     "ename": "NameError",
     "evalue": "name 'Dirs' is not defined",
     "traceback": [
      "\u001b[0;31m---------------------------------------------------------------------------\u001b[0m",
      "\u001b[0;31mNameError\u001b[0m                                 Traceback (most recent call last)",
      "\u001b[0;32m<ipython-input-1-9ff795ddb986>\u001b[0m in \u001b[0;36m<module>\u001b[0;34m\u001b[0m\n\u001b[0;32m----> 1\u001b[0;31m \u001b[0mDirs\u001b[0m\u001b[0;34m.\u001b[0m\u001b[0msaved_dir\u001b[0m\u001b[0;34m(\u001b[0m\u001b[0;34m)\u001b[0m\u001b[0;34m\u001b[0m\u001b[0;34m\u001b[0m\u001b[0m\n\u001b[0m",
      "\u001b[0;31mNameError\u001b[0m: name 'Dirs' is not defined"
     ]
    }
   ],
   "source": [
    "Dirs.saved_dir()"
   ]
  },
  {
   "cell_type": "code",
   "execution_count": null,
   "metadata": {},
   "outputs": [],
   "source": []
  }
 ]
}