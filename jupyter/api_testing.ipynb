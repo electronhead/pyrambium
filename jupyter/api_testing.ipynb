{
 "metadata": {
  "language_info": {
   "codemirror_mode": {
    "name": "ipython",
    "version": 3
   },
   "file_extension": ".py",
   "mimetype": "text/x-python",
   "name": "python",
   "nbconvert_exporter": "python",
   "pygments_lexer": "ipython3",
   "version": "3.9.0-final"
  },
  "orig_nbformat": 2,
  "kernelspec": {
   "name": "python3",
   "display_name": "Python 3",
   "language": "python"
  }
 },
 "nbformat": 4,
 "nbformat_minor": 2,
 "cells": [
  {
   "cell_type": "code",
   "execution_count": 2,
   "metadata": {},
   "outputs": [
    {
     "output_type": "error",
     "ename": "NameError",
     "evalue": "name 'compute_dir' is not defined",
     "traceback": [
      "\u001b[0;31m---------------------------------------------------------------------------\u001b[0m",
      "\u001b[0;31mNameError\u001b[0m                                 Traceback (most recent call last)",
      "\u001b[0;32m<ipython-input-2-c91cb2fd7b36>\u001b[0m in \u001b[0;36m<module>\u001b[0;34m\u001b[0m\n\u001b[1;32m      2\u001b[0m \u001b[0;32mfrom\u001b[0m \u001b[0mmothership\u001b[0m\u001b[0;34m.\u001b[0m\u001b[0mbase\u001b[0m\u001b[0;34m.\u001b[0m\u001b[0mservice\u001b[0m\u001b[0;34m.\u001b[0m\u001b[0maction\u001b[0m \u001b[0;32mimport\u001b[0m \u001b[0mFileHeartbeat\u001b[0m\u001b[0;34m\u001b[0m\u001b[0;34m\u001b[0m\u001b[0m\n\u001b[1;32m      3\u001b[0m \u001b[0;32mfrom\u001b[0m \u001b[0mmothership\u001b[0m\u001b[0;34m.\u001b[0m\u001b[0mbase\u001b[0m\u001b[0;34m.\u001b[0m\u001b[0mservice\u001b[0m\u001b[0;34m.\u001b[0m\u001b[0mcontinuous\u001b[0m \u001b[0;32mimport\u001b[0m \u001b[0mContinuous\u001b[0m\u001b[0;34m\u001b[0m\u001b[0;34m\u001b[0m\u001b[0m\n\u001b[0;32m----> 4\u001b[0;31m \u001b[0;32mfrom\u001b[0m \u001b[0mmothership\u001b[0m\u001b[0;34m.\u001b[0m\u001b[0mbase\u001b[0m\u001b[0;34m.\u001b[0m\u001b[0mservice\u001b[0m\u001b[0;34m.\u001b[0m\u001b[0mmothership\u001b[0m \u001b[0;32mimport\u001b[0m \u001b[0mmothership\u001b[0m\u001b[0;34m,\u001b[0m \u001b[0mMothership\u001b[0m\u001b[0;34m\u001b[0m\u001b[0;34m\u001b[0m\u001b[0m\n\u001b[0m\u001b[1;32m      5\u001b[0m \u001b[0;32mfrom\u001b[0m \u001b[0mmothership\u001b[0m\u001b[0;34m.\u001b[0m\u001b[0mbase\u001b[0m\u001b[0;34m.\u001b[0m\u001b[0mservice\u001b[0m\u001b[0;34m.\u001b[0m\u001b[0mutil\u001b[0m \u001b[0;32mimport\u001b[0m \u001b[0mTimeUnit\u001b[0m\u001b[0;34m,\u001b[0m \u001b[0mPP\u001b[0m\u001b[0;34m,\u001b[0m \u001b[0mDirs\u001b[0m\u001b[0;34m\u001b[0m\u001b[0;34m\u001b[0m\u001b[0m\n\u001b[1;32m      6\u001b[0m \u001b[0;32mfrom\u001b[0m \u001b[0mdatetime\u001b[0m \u001b[0;32mimport\u001b[0m \u001b[0mtime\u001b[0m\u001b[0;34m\u001b[0m\u001b[0;34m\u001b[0m\u001b[0m\n",
      "\u001b[0;32m~/dev/mothership/base/service/mothership.py\u001b[0m in \u001b[0;36m<module>\u001b[0;34m\u001b[0m\n\u001b[1;32m    201\u001b[0m         \u001b[0mcls\u001b[0m\u001b[0;34m.\u001b[0m\u001b[0mlock\u001b[0m \u001b[0;34m=\u001b[0m \u001b[0mRLock\u001b[0m\u001b[0;34m(\u001b[0m\u001b[0;34m)\u001b[0m\u001b[0;34m\u001b[0m\u001b[0;34m\u001b[0m\u001b[0m\n\u001b[1;32m    202\u001b[0m \u001b[0;34m\u001b[0m\u001b[0m\n\u001b[0;32m--> 203\u001b[0;31m \u001b[0mmothership\u001b[0m \u001b[0;34m=\u001b[0m \u001b[0mMothership\u001b[0m\u001b[0;34m(\u001b[0m\u001b[0msaved_dir\u001b[0m\u001b[0;34m=\u001b[0m\u001b[0mDirs\u001b[0m\u001b[0;34m.\u001b[0m\u001b[0msaved_dir\u001b[0m\u001b[0;34m(\u001b[0m\u001b[0;34m)\u001b[0m\u001b[0;34m)\u001b[0m\u001b[0;34m\u001b[0m\u001b[0;34m\u001b[0m\u001b[0m\n\u001b[0m\u001b[1;32m    204\u001b[0m \u001b[0;32mtry\u001b[0m\u001b[0;34m:\u001b[0m\u001b[0;34m\u001b[0m\u001b[0;34m\u001b[0m\u001b[0m\n\u001b[1;32m    205\u001b[0m     \u001b[0mmothership\u001b[0m \u001b[0;34m=\u001b[0m \u001b[0mmothership\u001b[0m\u001b[0;34m.\u001b[0m\u001b[0mload_current\u001b[0m\u001b[0;34m(\u001b[0m\u001b[0;34m)\u001b[0m\u001b[0;34m\u001b[0m\u001b[0;34m\u001b[0m\u001b[0m\n",
      "\u001b[0;32m~/dev/mothership/base/service/util.py\u001b[0m in \u001b[0;36msaved_dir\u001b[0;34m(cls)\u001b[0m\n\u001b[1;32m    166\u001b[0m     \u001b[0;34m@\u001b[0m\u001b[0mclassmethod\u001b[0m\u001b[0;34m\u001b[0m\u001b[0;34m\u001b[0m\u001b[0m\n\u001b[1;32m    167\u001b[0m     \u001b[0;32mdef\u001b[0m \u001b[0msaved_dir\u001b[0m\u001b[0;34m(\u001b[0m\u001b[0mcls\u001b[0m\u001b[0;34m)\u001b[0m\u001b[0;34m:\u001b[0m\u001b[0;34m\u001b[0m\u001b[0;34m\u001b[0m\u001b[0m\n\u001b[0;32m--> 168\u001b[0;31m         \u001b[0;32mreturn\u001b[0m \u001b[0mcompute_dir\u001b[0m\u001b[0;34m(\u001b[0m\u001b[0mcls\u001b[0m\u001b[0;34m.\u001b[0m\u001b[0msaved_label\u001b[0m\u001b[0;34m,\u001b[0m \u001b[0mcls\u001b[0m\u001b[0;34m.\u001b[0m\u001b[0msaved_default_dir\u001b[0m\u001b[0;34m)\u001b[0m\u001b[0;34m\u001b[0m\u001b[0;34m\u001b[0m\u001b[0m\n\u001b[0m",
      "\u001b[0;31mNameError\u001b[0m: name 'compute_dir' is not defined"
     ]
    }
   ],
   "source": [
    "from mothership.base.service.scheduler import TimelyScheduler, RandomlyScheduler\n",
    "from mothership.base.service.action import FileHeartbeat\n",
    "from mothership.base.service.continuous import Continuous\n",
    "from mothership.base.service.mothership import mothership, Mothership\n",
    "from mothership.base.service.util import TimeUnit, PP, Dirs\n",
    "from datetime import time\n",
    "\n",
    "saved_dir = mothership.saved_dir\n",
    "saved_subdir = 'api_testing'\n",
    "new_saved_dir = f\"{saved_dir}/{saved_subdir}/\"\n",
    "mothership = Mothership(saved_dir=new_saved_dir)\n",
    "mothership.clear_all()\n",
    "\n",
    "output_dir = Dirs.output_dir()\n",
    "mothership.add_scheduler('randomly_short', RandomlyScheduler(time_unit=TimeUnit.second, low=10, high=20))\n",
    "morning, evening = time(6,0,0), time(18,0,0)\n",
    "mothership.add_scheduler('timely_day', TimelyScheduler(interval=1, second=0, start=morning, stop=evening))\n",
    "mothership.add_scheduler('timely_night', TimelyScheduler(interval=1, second=0, start=evening, stop=morning))\n",
    "heartbeat_file = f\"{output_dir}heartbeat1.txt\"\n",
    "mothership.add_action('heartbeat1', FileHeartbeat(file=heartbeat_file))\n",
    "heartbeat_file = f\"{output_dir}heartbeat2.txt\"\n",
    "mothership.add_action('heartbeat2', FileHeartbeat(file=heartbeat_file))\n",
    "mothership.schedule_action(scheduler_name='timely_day', action_name='heartbeat1')\n",
    "mothership.schedule_action(scheduler_name='timely_night', action_name='heartbeat2')"
   ]
  },
  {
   "cell_type": "code",
   "execution_count": null,
   "metadata": {},
   "outputs": [],
   "source": [
    "PP.pprint(mothership.dict())"
   ]
  },
  {
   "cell_type": "code",
   "execution_count": null,
   "metadata": {},
   "outputs": [],
   "source": [
    "Continuous.get().run_continuously(1)"
   ]
  },
  {
   "cell_type": "code",
   "execution_count": null,
   "metadata": {},
   "outputs": [],
   "source": [
    "Continuous.get().stop_running_continuously()"
   ]
  },
  {
   "cell_type": "code",
   "execution_count": null,
   "metadata": {},
   "outputs": [],
   "source": [
    "mothership.execute_action('heartbeat1')"
   ]
  },
  {
   "cell_type": "code",
   "execution_count": null,
   "metadata": {},
   "outputs": [],
   "source": [
    "mothership.execute_action('heartbeat2')"
   ]
  }
 ]
}