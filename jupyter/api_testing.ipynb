{
 "metadata": {
  "language_info": {
   "codemirror_mode": {
    "name": "ipython",
    "version": 3
   },
   "file_extension": ".py",
   "mimetype": "text/x-python",
   "name": "python",
   "nbconvert_exporter": "python",
   "pygments_lexer": "ipython3",
   "version": "3.9.0-final"
  },
  "orig_nbformat": 2,
  "kernelspec": {
   "name": "python3",
   "display_name": "Python 3",
   "language": "python"
  }
 },
 "nbformat": 4,
 "nbformat_minor": 2,
 "cells": [
  {
   "cell_type": "code",
   "execution_count": null,
   "metadata": {},
   "outputs": [],
   "source": [
    "from datetime import time\n",
    "from src.base.service.scheduler import TimelyScheduler, RandomlyScheduler\n",
    "from src.base.service.action import FileHeartbeat\n",
    "from src.base.service.continuous import Continuous\n",
    "from src.base.service.mothership import Mothership\n",
    "from src.base.service.util import TimeUnit, PP, Dirs\n",
    "\n",
    "saved_dir = Dirs.saved_dir()\n",
    "saved_subdir = 'api_testing'\n",
    "new_saved_dir = f\"{saved_dir}/{saved_subdir}/\"\n",
    "mothership = Mothership(saved_dir=new_saved_dir)\n",
    "mothership.clear_all()\n",
    "\n",
    "output_dir = Dirs.output_dir()\n",
    "mothership.add_scheduler('randomly_short', RandomlyScheduler(time_unit=TimeUnit.second, low=10, high=20))\n",
    "morning, evening = time(6,0,0), time(18,0,0)\n",
    "mothership.add_scheduler('timely_day', TimelyScheduler(interval=1, second=0, start=morning, stop=evening))\n",
    "mothership.add_scheduler('timely_night', TimelyScheduler(interval=1, second=0, start=evening, stop=morning))\n",
    "heartbeat_file = f\"{output_dir}heartbeat1.txt\"\n",
    "mothership.add_action('heartbeat1', FileHeartbeat(file=heartbeat_file))\n",
    "heartbeat_file = f\"{output_dir}heartbeat2.txt\"\n",
    "mothership.add_action('heartbeat2', FileHeartbeat(file=heartbeat_file))\n",
    "mothership.schedule_action(scheduler_name='timely_day', action_name='heartbeat1')\n",
    "mothership.schedule_action(scheduler_name='timely_night', action_name='heartbeat2')"
   ]
  },
  {
   "cell_type": "code",
   "execution_count": null,
   "metadata": {},
   "outputs": [],
   "source": [
    "mothership.pprint()"
   ]
  },
  {
   "cell_type": "code",
   "execution_count": null,
   "metadata": {},
   "outputs": [],
   "source": [
    "Continuous.get().run_continuously(1)"
   ]
  },
  {
   "cell_type": "code",
   "execution_count": null,
   "metadata": {},
   "outputs": [],
   "source": [
    "Continuous.get().stop_running_continuously()"
   ]
  },
  {
   "cell_type": "code",
   "execution_count": null,
   "metadata": {},
   "outputs": [],
   "source": [
    "mothership.execute_action('heartbeat1')"
   ]
  },
  {
   "cell_type": "code",
   "execution_count": null,
   "metadata": {},
   "outputs": [],
   "source": [
    "mothership.execute_action('heartbeat2')"
   ]
  },
  {
   "cell_type": "code",
   "execution_count": null,
   "metadata": {},
   "outputs": [],
   "source": [
    "Dirs.saved_dir()"
   ]
  },
  {
   "cell_type": "code",
   "execution_count": null,
   "metadata": {},
   "outputs": [],
   "source": [
    "from fastapi import FastAPI\n",
    "f = FastAPI\n",
    "dir(f)"
   ]
  },
  {
   "cell_type": "code",
   "execution_count": null,
   "metadata": {},
   "outputs": [],
   "source": [
    "f.__dict__"
   ]
  },
  {
   "cell_type": "code",
   "execution_count": null,
   "metadata": {},
   "outputs": [],
   "source": [
    "from fastapi import APIRouter\n",
    "r = APIRouter()\n",
    "dir(r)"
   ]
  },
  {
   "cell_type": "code",
   "execution_count": null,
   "metadata": {},
   "outputs": [],
   "source": [
    "APIRouter() == APIRouter()"
   ]
  },
  {
   "cell_type": "code",
   "execution_count": null,
   "metadata": {},
   "outputs": [],
   "source": [
    "\n",
    "    import importlib\n",
    "    #from pyrambium.app import main_temp\n",
    "    # importlib.reload(main_temp)\n",
    "    importlib.import_module('pyrambium.app.main_temp')\n",
    "    importlib.invalidate_caches()"
   ]
  },
  {
   "cell_type": "code",
   "execution_count": null,
   "metadata": {},
   "outputs": [],
   "source": []
  }
 ]
}