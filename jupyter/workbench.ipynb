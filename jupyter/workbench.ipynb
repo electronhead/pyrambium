{
 "metadata": {
  "language_info": {
   "codemirror_mode": {
    "name": "ipython",
    "version": 3
   },
   "file_extension": ".py",
   "mimetype": "text/x-python",
   "name": "python",
   "nbconvert_exporter": "python",
   "pygments_lexer": "ipython3",
   "version": "3.9.0-final"
  },
  "orig_nbformat": 2,
  "kernelspec": {
   "name": "python3",
   "display_name": "Python 3",
   "language": "python"
  }
 },
 "nbformat": 4,
 "nbformat_minor": 2,
 "cells": [
  {
   "source": [
    "This notebook utilizes the Workbench and ApiServer classes, which allows for convenient, notebook-based use of the api."
   ],
   "cell_type": "markdown",
   "metadata": {}
  },
  {
   "cell_type": "code",
   "execution_count": null,
   "metadata": {},
   "outputs": [],
   "source": [
    "from pyrambium.app.workbench import Workbench, ApiHost\n",
    "from pyrambium.base.service.action import Action, FileHeartbeat\n",
    "from pyrambium.base.service.scheduler import Scheduler, TimelyScheduler, RandomlyScheduler\n",
    "from pyrambium.base.service.mothership import Mothership\n",
    "from pydantic import BaseModel\n",
    "from pyrambium.base.service.util import IP, resolve_instance, PP, FilePathe\n",
    "import json\n",
    "import uvicorn\n",
    "\n",
    "workbench = Workbench()\n",
    "workbench.add_api_host('pi', ApiHost(ip_addr='192.168.0.45'))\n",
    "workbench.add_api_host('local', ApiHost(ip_addr=IP.local))\n",
    "workbench.add_api_host('unit', ApiHost(ip_addr=IP.local, port=5000))\n",
    "print(workbench.count())\n",
    "local = workbench.get_api_host('local')\n",
    "pi = workbench.get_api_host('pi')"
   ]
  },
  {
   "cell_type": "code",
   "execution_count": null,
   "metadata": {},
   "outputs": [],
   "source": [
    "pi.set_saved_dir(FilePathe(path='/tmp/pyrambium/saved/'))"
   ]
  },
  {
   "cell_type": "code",
   "execution_count": null,
   "metadata": {},
   "outputs": [],
   "source": [
    "pi.load_mothership()"
   ]
  },
  {
   "cell_type": "code",
   "execution_count": null,
   "metadata": {},
   "outputs": [],
   "source": []
  }
 ]
}