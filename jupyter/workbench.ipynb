{
 "metadata": {
  "language_info": {
   "codemirror_mode": {
    "name": "ipython",
    "version": 3
   },
   "file_extension": ".py",
   "mimetype": "text/x-python",
   "name": "python",
   "nbconvert_exporter": "python",
   "pygments_lexer": "ipython3",
   "version": "3.9.0-final"
  },
  "orig_nbformat": 2,
  "kernelspec": {
   "name": "python3",
   "display_name": "Python 3",
   "language": "python"
  }
 },
 "nbformat": 4,
 "nbformat_minor": 2,
 "cells": [
  {
   "source": [
    "This notebook utilizes the Workbench and ApiServer classes, which allows for convenient, notebook-based use of the api."
   ],
   "cell_type": "markdown",
   "metadata": {}
  },
  {
   "cell_type": "code",
   "execution_count": 1,
   "metadata": {},
   "outputs": [
    {
     "output_type": "stream",
     "name": "stdout",
     "text": [
      "2\n"
     ]
    }
   ],
   "source": [
    "from pyrambium.app.workbench import Workbench, ApiServer\n",
    "from pyrambium.base.service.action import Action, FileHeartbeat\n",
    "from pyrambium.base.service.scheduler import Scheduler, TimelyScheduler, RandomlyScheduler\n",
    "from pyrambium.base.service.mothership import Mothership\n",
    "from pydantic import BaseModel\n",
    "from pyrambium.base.service.util import IP, resolve_instance, PP\n",
    "import json\n",
    "\n",
    "workbench = Workbench()\n",
    "workbench.add_server('pi', ApiServer(ip_addr='192.168.0.45'))\n",
    "workbench.add_server('local', ApiServer(ip_addr=IP.local))\n",
    "print(workbench.count())\n",
    "local = workbench.get_server('local')\n",
    "pi = workbench.get_server('pi')"
   ]
  },
  {
   "cell_type": "code",
   "execution_count": 2,
   "metadata": {},
   "outputs": [
    {
     "output_type": "execute_result",
     "data": {
      "text/plain": [
       "Mothership(actions={'heartbeat1': FileHeartbeat(file='/tmp/pyrambium/output/heartbeat1.txt', xtra={'words': 'heartbreak hotel'}), 'heartbeat2': FileHeartbeat(file='/tmp/pyrambium/output/heartbeat2.txt', xtra={'words': 'nothing but heartaches'}), 'heartbeat3': FileHeartbeat(file='/tmp/pyrambium/output/heartbeat3.txt', xtra={'words': 'heart of glass'})}, schedulers={'randomly_soon': RandomlyScheduler(start=None, stop=None, time_unit=<TimeUnit.second: 'second'>, low=10, high=20), 'timely_day': TimelyScheduler(start=datetime.time(6, 0), stop=datetime.time(18, 0), interval=1, hour=None, minute=None, second=0), 'timely_night': TimelyScheduler(start=datetime.time(18, 0), stop=datetime.time(6, 0), interval=1, hour=None, minute=None, second=0)}, schedulers_actions={'randomly_soon': ['heartbeat3'], 'timely_day': ['heartbeat1'], 'timely_night': ['heartbeat2']}, saved_dir='/tmp/pyrambium/saved/')"
      ]
     },
     "metadata": {},
     "execution_count": 2
    }
   ],
   "source": [
    "local.load_mothership()"
   ]
  },
  {
   "cell_type": "code",
   "execution_count": 5,
   "metadata": {},
   "outputs": [
    {
     "output_type": "error",
     "ename": "AttributeError",
     "evalue": "'ApiServer' object has no attribute 'pprint'",
     "traceback": [
      "\u001b[0;31m---------------------------------------------------------------------------\u001b[0m",
      "\u001b[0;31mAttributeError\u001b[0m                            Traceback (most recent call last)",
      "\u001b[0;32m<ipython-input-5-373b579b97dd>\u001b[0m in \u001b[0;36m<module>\u001b[0;34m\u001b[0m\n\u001b[0;32m----> 1\u001b[0;31m \u001b[0mlocal\u001b[0m\u001b[0;34m.\u001b[0m\u001b[0mpprint\u001b[0m\u001b[0;34m(\u001b[0m\u001b[0;34m)\u001b[0m\u001b[0;34m\u001b[0m\u001b[0;34m\u001b[0m\u001b[0m\n\u001b[0m",
      "\u001b[0;31mAttributeError\u001b[0m: 'ApiServer' object has no attribute 'pprint'"
     ]
    }
   ],
   "source": [
    "local.pprint()"
   ]
  },
  {
   "cell_type": "code",
   "execution_count": 7,
   "metadata": {},
   "outputs": [
    {
     "output_type": "execute_result",
     "data": {
      "text/plain": [
       "FileHeartbeat(file='/tmp/pyrambium/output/heartbeat1.txt', xtra={'words': 'heartbreak hotel'})"
      ]
     },
     "metadata": {},
     "execution_count": 7
    }
   ],
   "source": [
    "local.load_mothership().get_action('heartbeat1')"
   ]
  },
  {
   "cell_type": "code",
   "execution_count": null,
   "metadata": {},
   "outputs": [],
   "source": [
    "local.get_mothership().get_schedulers()"
   ]
  },
  {
   "cell_type": "code",
   "execution_count": 13,
   "metadata": {},
   "outputs": [
    {
     "output_type": "execute_result",
     "data": {
      "text/plain": [
       "Mothership(actions={'heartbeat1': FileHeartbeat(file='/tmp/pyrambium/output/heartbeat1.txt', xtra={'words': 'heartbreak hotel'}), 'heartbeat2': FileHeartbeat(file='/tmp/pyrambium/output/heartbeat2.txt', xtra={'words': 'nothing but heartaches'}), 'heartbeat3': FileHeartbeat(file='/tmp/pyrambium/output/heartbeat3.txt', xtra={'words': 'heart of glass'})}, schedulers={'randomly_soon': RandomlyScheduler(start=None, stop=None, time_unit=<TimeUnit.second: 'second'>, low=10, high=20), 'timely_day': TimelyScheduler(start=datetime.time(6, 0), stop=datetime.time(18, 0), interval=1, hour=None, minute=None, second=0), 'timely_night': TimelyScheduler(start=datetime.time(18, 0), stop=datetime.time(6, 0), interval=1, hour=None, minute=None, second=0)}, schedulers_actions={'randomly_soon': ['heartbeat3'], 'timely_day': ['heartbeat1'], 'timely_night': ['heartbeat2']}, saved_dir='/tmp/pyrambium/saved/')"
      ]
     },
     "metadata": {},
     "execution_count": 13
    }
   ],
   "source": [
    "pi.load_mothership()"
   ]
  },
  {
   "cell_type": "code",
   "execution_count": 16,
   "metadata": {},
   "outputs": [
    {
     "output_type": "stream",
     "name": "stdout",
     "text": [
      "{ 'actions': { 'heartbeat1': { 'file': '/tmp/pyrambium/output/heartbeat1.txt',\n                               'xtra': {'words': 'heartbreak hotel'}},\n               'heartbeat2': { 'file': '/tmp/pyrambium/output/heartbeat2.txt',\n                               'xtra': {'words': 'nothing but heartaches'}},\n               'heartbeat3': { 'file': '/tmp/pyrambium/output/heartbeat3.txt',\n                               'xtra': {'words': 'heart of glass'}}},\n  'saved_dir': '/tmp/pyrambium/saved/',\n  'schedulers': { 'randomly_soon': { 'high': 20,\n                                     'low': 10,\n                                     'start': None,\n                                     'stop': None,\n                                     'time_unit': <TimeUnit.second: 'second'>},\n                  'timely_day': { 'hour': None,\n                                  'interval': 1,\n                                  'minute': None,\n                                  'second': 0,\n                                  'start': datetime.time(6, 0),\n                                  'stop': datetime.time(18, 0)},\n                  'timely_night': { 'hour': None,\n                                    'interval': 1,\n                                    'minute': None,\n                                    'second': 0,\n                                    'start': datetime.time(18, 0),\n                                    'stop': datetime.time(6, 0)}},\n  'schedulers_actions': { 'randomly_soon': ['heartbeat3'],\n                          'timely_day': ['heartbeat1'],\n                          'timely_night': ['heartbeat2']}}\n"
     ]
    }
   ],
   "source": [
    "pi.load_mothership().pprint()"
   ]
  },
  {
   "cell_type": "code",
   "execution_count": null,
   "metadata": {},
   "outputs": [],
   "source": [
    "Mothership.instantiate_from_dict(mutha['outcome'])"
   ]
  },
  {
   "cell_type": "code",
   "execution_count": null,
   "metadata": {},
   "outputs": [],
   "source": [
    "server.get_mothership_dict()"
   ]
  },
  {
   "cell_type": "code",
   "execution_count": null,
   "metadata": {},
   "outputs": [],
   "source": [
    "action = FileHeartbeat(file=f\"{Dirs.output_dir()}/heartbeat5.txt\")"
   ]
  },
  {
   "cell_type": "code",
   "execution_count": null,
   "metadata": {},
   "outputs": [],
   "source": [
    "server.add_action('heartbeat5', action)"
   ]
  },
  {
   "cell_type": "code",
   "execution_count": null,
   "metadata": {},
   "outputs": [],
   "source": [
    "server.schedule_action('timely_day', 'heartbeat5')"
   ]
  },
  {
   "cell_type": "code",
   "execution_count": null,
   "metadata": {},
   "outputs": [],
   "source": [
    "server.schedule_action('timely_night', 'heartbeat5')"
   ]
  },
  {
   "cell_type": "code",
   "execution_count": null,
   "metadata": {},
   "outputs": [],
   "source": [
    "server.start_scheduled_jobs()"
   ]
  },
  {
   "cell_type": "code",
   "execution_count": null,
   "metadata": {},
   "outputs": [],
   "source": [
    "server.stop_scheduled_jobs()"
   ]
  },
  {
   "cell_type": "code",
   "execution_count": null,
   "metadata": {},
   "outputs": [],
   "source": [
    "loca"
   ]
  }
 ]
}