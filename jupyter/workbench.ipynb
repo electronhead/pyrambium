{
 "metadata": {
  "language_info": {
   "codemirror_mode": {
    "name": "ipython",
    "version": 3
   },
   "file_extension": ".py",
   "mimetype": "text/x-python",
   "name": "python",
   "nbconvert_exporter": "python",
   "pygments_lexer": "ipython3",
   "version": "3.9.0-final"
  },
  "orig_nbformat": 2,
  "kernelspec": {
   "name": "python3",
   "display_name": "Python 3",
   "language": "python"
  }
 },
 "nbformat": 4,
 "nbformat_minor": 2,
 "cells": [
  {
   "source": [
    "This notebook utilizes the Workbench and ApiServer classes, which allows for convenient, notebook-based use of the api."
   ],
   "cell_type": "markdown",
   "metadata": {}
  },
  {
   "cell_type": "code",
   "execution_count": 1,
   "metadata": {},
   "outputs": [
    {
     "output_type": "error",
     "ename": "ModuleNotFoundError",
     "evalue": "No module named 'app.workbench'",
     "traceback": [
      "\u001b[0;31m---------------------------------------------------------------------------\u001b[0m",
      "\u001b[0;31mModuleNotFoundError\u001b[0m                       Traceback (most recent call last)",
      "\u001b[0;32m<ipython-input-1-76b4f37626e6>\u001b[0m in \u001b[0;36m<module>\u001b[0;34m\u001b[0m\n\u001b[1;32m      2\u001b[0m \u001b[0;32mimport\u001b[0m \u001b[0muvicorn\u001b[0m\u001b[0;34m\u001b[0m\u001b[0;34m\u001b[0m\u001b[0m\n\u001b[1;32m      3\u001b[0m \u001b[0;32mfrom\u001b[0m \u001b[0mpydantic\u001b[0m \u001b[0;32mimport\u001b[0m \u001b[0mBaseModel\u001b[0m\u001b[0;34m\u001b[0m\u001b[0;34m\u001b[0m\u001b[0m\n\u001b[0;32m----> 4\u001b[0;31m \u001b[0;32mfrom\u001b[0m \u001b[0mapp\u001b[0m\u001b[0;34m.\u001b[0m\u001b[0mworkbench\u001b[0m \u001b[0;32mimport\u001b[0m \u001b[0mWorkbench\u001b[0m\u001b[0;34m,\u001b[0m \u001b[0mApiHost\u001b[0m\u001b[0;34m\u001b[0m\u001b[0;34m\u001b[0m\u001b[0m\n\u001b[0m\u001b[1;32m      5\u001b[0m \u001b[0;32mfrom\u001b[0m \u001b[0mmothership\u001b[0m\u001b[0;34m.\u001b[0m\u001b[0maction\u001b[0m \u001b[0;32mimport\u001b[0m \u001b[0mAction\u001b[0m\u001b[0;34m,\u001b[0m \u001b[0mFileHeartbeat\u001b[0m\u001b[0;34m\u001b[0m\u001b[0;34m\u001b[0m\u001b[0m\n\u001b[1;32m      6\u001b[0m \u001b[0;32mfrom\u001b[0m \u001b[0msmothership\u001b[0m\u001b[0;34m.\u001b[0m\u001b[0mscheduler\u001b[0m \u001b[0;32mimport\u001b[0m \u001b[0mScheduler\u001b[0m\u001b[0;34m,\u001b[0m \u001b[0mTimelyScheduler\u001b[0m\u001b[0;34m,\u001b[0m \u001b[0mRandomlyScheduler\u001b[0m\u001b[0;34m\u001b[0m\u001b[0;34m\u001b[0m\u001b[0m\n",
      "\u001b[0;31mModuleNotFoundError\u001b[0m: No module named 'app.workbench'"
     ]
    }
   ],
   "source": [
    "import json\n",
    "import uvicorn\n",
    "from pydantic import BaseModel\n",
    "from app.workbench import Workbench, ApiHost\n",
    "from mothership.action import Action, FileHeartbeat\n",
    "from smothership.scheduler import Scheduler, TimelyScheduler, RandomlyScheduler\n",
    "from mothership.mothership import Mothership\n",
    "from mothership.util import IP, resolve_instance, PP, FilePathe\n",
    "\n",
    "workbench = Workbench()\n",
    "workbench.add_api_host('pi', ApiHost(ip_addr='192.168.0.45'))\n",
    "workbench.add_api_host('local', ApiHost(ip_addr=IP.local))\n",
    "workbench.add_api_host('unit', ApiHost(ip_addr=IP.local, port=5000))\n",
    "print(workbench.count())\n",
    "local = workbench.get_api_host('local')\n",
    "pi = workbench.get_api_host('pi')"
   ]
  },
  {
   "cell_type": "code",
   "execution_count": null,
   "metadata": {},
   "outputs": [],
   "source": [
    "pi.set_saved_dir(FilePathe(path='/tmp/pyrambium/saved/'))"
   ]
  },
  {
   "cell_type": "code",
   "execution_count": null,
   "metadata": {},
   "outputs": [],
   "source": [
    "pi.load_mothership()"
   ]
  },
  {
   "cell_type": "code",
   "execution_count": null,
   "metadata": {},
   "outputs": [],
   "source": []
  }
 ]
}