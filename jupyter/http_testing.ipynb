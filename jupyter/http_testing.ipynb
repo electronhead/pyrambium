{
 "metadata": {
  "language_info": {
   "codemirror_mode": {
    "name": "ipython",
    "version": 3
   },
   "file_extension": ".py",
   "mimetype": "text/x-python",
   "name": "python",
   "nbconvert_exporter": "python",
   "pygments_lexer": "ipython3",
   "version": "3.9.0-final"
  },
  "orig_nbformat": 2,
  "kernelspec": {
   "name": "python3",
   "display_name": "Python 3",
   "language": "python"
  }
 },
 "nbformat": 4,
 "nbformat_minor": 2,
 "cells": [
  {
   "source": [
    "to do\n",
    "\n",
    "1. change 'scheduler' => 'schedule'\n",
    "2. install git in the mothership directory\n",
    "3. push to github\n",
    "4. get docker working\n",
    "5. install on pi"
   ],
   "cell_type": "markdown",
   "metadata": {}
  },
  {
   "source": [
    "implement a routing server so that requests are routed to other servers, as in /machines/foo/behaviors/actions where /machines/foo defines a route to a particular machine foo that processes /behaviors/actions\n",
    "\n",
    "python3 -m compileall -f base\n",
    "\n",
    "\n",
    "to run at the command line in the python/...\n",
    "\n",
    "uvicorn main:app --workers 1\n",
    "\n",
    "uvicorn main:app --reload\n",
    "\n",
    "import uvicorn\n",
    "if __name__ == \"__main__\":\n",
    "    uvicorn.run(app, host=\"0.0.0.0\", port=8000)\n",
    "\n",
    "pip3 install pylint\n",
    "\n",
    "pylint *.py"
   ],
   "cell_type": "markdown",
   "metadata": {}
  },
  {
   "cell_type": "code",
   "execution_count": null,
   "metadata": {},
   "outputs": [],
   "source": [
    "from pyrambium.base.service.scheduler import TimelyScheduler, RandomlyScheduler\n",
    "from pyrambium.base.service.action import FileHeartbeat\n",
    "from pyrambium.base.service.util import PP, TimeUnit, Dirs\n",
    "from datetime import time\n",
    "from pydantic import BaseModel\n",
    "import requests\n",
    "\n",
    "prefix = \"http://192.168.0.45:8000\"\n",
    "prefix = \"http://127.0.0.1:8000\"\n",
    "def get(path:str):\n",
    "    cmd = f\"{prefix}{path}\"\n",
    "    response = requests.get(cmd)\n",
    "    PP.pprint(response.json())\n",
    "def put(path:str, data:BaseModel):\n",
    "    cmd = f\"{prefix}{path}\"\n",
    "    response = requests.put(cmd, data.json())\n",
    "    PP.pprint(response.json())\n",
    "output_dir = Dirs.output_dir()"
   ]
  },
  {
   "cell_type": "code",
   "execution_count": null,
   "metadata": {},
   "outputs": [],
   "source": [
    "get('/')\n",
    "get('/mothership/clear')"
   ]
  },
  {
   "cell_type": "code",
   "execution_count": null,
   "metadata": {},
   "outputs": [],
   "source": [
    "action = FileHeartbeat(file=f\"{output_dir}heartbeat1.txt\", xtra={'words':'heartbreak hotel'})\n",
    "put('/actions/heartbeat1', action)\n",
    "action = FileHeartbeat(file=f\"{output_dir}heartbeat2.txt\", xtra={'words':'nothing but heartaches'})\n",
    "put('/actions/heartbeat2', action)\n",
    "action = FileHeartbeat(file=f\"{output_dir}heartbeat3.txt\", xtra={'words':'heart of glass'})\n",
    "put('/actions/heartbeat3', action)\n",
    "\n",
    "scheduler = RandomlyScheduler(time_unit=TimeUnit.second, low=10, high=20)\n",
    "put('/schedulers/randomly_soon', scheduler)\n",
    "\n",
    "morning, evening = time(6,0,0), time(18,0,0)\n",
    "scheduler = TimelyScheduler(interval=1, second=0, start=morning, stop=evening)\n",
    "put('/schedulers/timely_day', scheduler)\n",
    "scheduler = TimelyScheduler(interval=1, second=0, start=evening, stop=morning)\n",
    "put('/schedulers/timely_night', scheduler)\n",
    "\n",
    "get('/schedulers/timely_day/actions/heartbeat1')\n",
    "get('/schedulers/timely_night/actions/heartbeat2')\n",
    "get('/schedulers/randomly_soon/actions/heartbeat3')"
   ]
  },
  {
   "cell_type": "code",
   "execution_count": null,
   "metadata": {},
   "outputs": [],
   "source": [
    "get('/mothership')"
   ]
  },
  {
   "cell_type": "code",
   "execution_count": null,
   "metadata": {},
   "outputs": [],
   "source": [
    "action = FileHeartbeat(file=f\"{output_dir}heartbeat3.txt\")\n",
    "put('/actions/heartbeat3', action)\n",
    "get('/schedulers/timely_day/actions/heartbeat3')"
   ]
  },
  {
   "cell_type": "code",
   "execution_count": null,
   "metadata": {},
   "outputs": [],
   "source": [
    "action = FileHeartbeat(file=f\"{output_dir}heartbeat4.txt\", xtra={'words':\"your cheatin' heart\"})\n",
    "put('/actions/heartbeat4', action)\n",
    "get('/schedulers/timely_day/actions/heartbeat4')"
   ]
  },
  {
   "cell_type": "code",
   "execution_count": null,
   "metadata": {},
   "outputs": [],
   "source": [
    "get('/jobs/start')"
   ]
  },
  {
   "cell_type": "code",
   "execution_count": null,
   "metadata": {},
   "outputs": [],
   "source": [
    "get('/jobs/stop')"
   ]
  },
  {
   "cell_type": "code",
   "execution_count": null,
   "metadata": {},
   "outputs": [],
   "source": [
    "get('/jobs/count')"
   ]
  },
  {
   "cell_type": "code",
   "execution_count": null,
   "metadata": {},
   "outputs": [],
   "source": [
    "get('/actions/heartbeat1/execute')"
   ]
  },
  {
   "cell_type": "code",
   "execution_count": null,
   "metadata": {},
   "outputs": [],
   "source": [
    "get('/actions/heartbeat2/execute')"
   ]
  },
  {
   "cell_type": "code",
   "execution_count": null,
   "metadata": {},
   "outputs": [],
   "source": [
    "get('/actions/heartbeat3/execute')"
   ]
  },
  {
   "cell_type": "code",
   "execution_count": null,
   "metadata": {},
   "outputs": [],
   "source": [
    "get('/actions/heartbeat4/execute')"
   ]
  },
  {
   "cell_type": "code",
   "execution_count": null,
   "metadata": {},
   "outputs": [],
   "source": [
    "get('/actions/heartbeat1')"
   ]
  },
  {
   "cell_type": "code",
   "execution_count": null,
   "metadata": {},
   "outputs": [],
   "source": [
    "get('/actions/heartbeat2')"
   ]
  },
  {
   "cell_type": "code",
   "execution_count": null,
   "metadata": {},
   "outputs": [],
   "source": [
    "get('/actions/heartbeat1')"
   ]
  },
  {
   "cell_type": "code",
   "execution_count": null,
   "metadata": {},
   "outputs": [],
   "source": [
    "get('/schedulers/timely_day/dict')"
   ]
  },
  {
   "cell_type": "code",
   "execution_count": null,
   "metadata": {},
   "outputs": [],
   "source": [
    "from fastapi import APIRouter"
   ]
  },
  {
   "cell_type": "code",
   "execution_count": null,
   "metadata": {},
   "outputs": [],
   "source": [
    "r = APIRouter()\n",
    "type(r.__dict__)"
   ]
  },
  {
   "cell_type": "code",
   "execution_count": null,
   "metadata": {},
   "outputs": [],
   "source": [
    "r.__dict__['a']=8"
   ]
  },
  {
   "cell_type": "code",
   "execution_count": null,
   "metadata": {},
   "outputs": [],
   "source": [
    "get('/mothership')"
   ]
  },
  {
   "cell_type": "code",
   "execution_count": null,
   "metadata": {},
   "outputs": [],
   "source": []
  }
 ]
}