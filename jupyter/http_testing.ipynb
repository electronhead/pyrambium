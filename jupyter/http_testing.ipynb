{
 "metadata": {
  "language_info": {
   "codemirror_mode": {
    "name": "ipython",
    "version": 3
   },
   "file_extension": ".py",
   "mimetype": "text/x-python",
   "name": "python",
   "nbconvert_exporter": "python",
   "pygments_lexer": "ipython3",
   "version": "3.9.0-final"
  },
  "orig_nbformat": 2,
  "kernelspec": {
   "name": "python3",
   "display_name": "Python 3",
   "language": "python"
  }
 },
 "nbformat": 4,
 "nbformat_minor": 2,
 "cells": [
  {
   "source": [
    "to do\n",
    "\n",
    "1. change 'scheduler' => 'schedule'\n",
    "2. install git in the mothership directory\n",
    "3. push to github\n",
    "4. get docker working\n",
    "5. install on pi"
   ],
   "cell_type": "markdown",
   "metadata": {}
  },
  {
   "source": [
    "implement a routing server so that requests are routed to other servers, as in /machines/foo/behaviors/actions where /machines/foo defines a route to a particular machine foo that processes /behaviors/actions\n",
    "\n",
    "python3 -m compileall -f base\n",
    "\n",
    "\n",
    "to run at the command line in the python/...\n",
    "\n",
    "uvicorn main:app --workers 1\n",
    "\n",
    "uvicorn main:app --reload\n",
    "\n",
    "import uvicorn\n",
    "if __name__ == \"__main__\":\n",
    "    uvicorn.run(app, host=\"0.0.0.0\", port=8000)\n",
    "\n",
    "pip3 install pylint\n",
    "\n",
    "pylint *.py"
   ],
   "cell_type": "markdown",
   "metadata": {}
  },
  {
   "cell_type": "code",
   "execution_count": 1,
   "metadata": {},
   "outputs": [],
   "source": [
    "from pyrambium.base.service.scheduler import TimelyScheduler, RandomlyScheduler\n",
    "from pyrambium.base.service.action import FileHeartbeat\n",
    "from pyrambium.base.service.util import PP, TimeUnit, Dirs\n",
    "from datetime import time\n",
    "from pydantic import BaseModel\n",
    "import requests\n",
    "\n",
    "prefix = \"http://192.168.0.45:8000\"\n",
    "prefix = \"http://127.0.0.1:8000\"\n",
    "def get(path:str):\n",
    "    cmd = f\"{prefix}{path}\"\n",
    "    response = requests.get(cmd)\n",
    "    PP.pprint(response.json())\n",
    "def put(path:str, data:BaseModel):\n",
    "    cmd = f\"{prefix}{path}\"\n",
    "    response = requests.put(cmd, data.json())\n",
    "    PP.pprint(response.json())\n",
    "output_dir = Dirs.output_dir()"
   ]
  },
  {
   "cell_type": "code",
   "execution_count": 5,
   "metadata": {},
   "outputs": [
    {
     "output_type": "stream",
     "name": "stdout",
     "text": [
      "{ 'actions': {},\n  'saved_dir': '/tmp/pyrambium/saved/',\n  'schedulers': {},\n  'schedulers_actions': {}}\n'mothership cleared'\n"
     ]
    }
   ],
   "source": [
    "get('/mothership/load')\n",
    "get('/mothership/clear')"
   ]
  },
  {
   "cell_type": "code",
   "execution_count": 6,
   "metadata": {},
   "outputs": [
    {
     "output_type": "stream",
     "name": "stdout",
     "text": [
      "'action (heartbeat1) was successfully added'\n'action (heartbeat2) was successfully added'\n'action (heartbeat3) was successfully added'\n'scheduler (randomly_soon) was successfully added'\n'scheduler (timely_day) was successfully added'\n'scheduler (timely_night) was successfully added'\n'action (heartbeat1) was successfully scheduled (timely_day)'\n'action (heartbeat2) was successfully scheduled (timely_night)'\n'action (heartbeat3) was successfully scheduled (randomly_soon)'\n"
     ]
    }
   ],
   "source": [
    "action = FileHeartbeat(file=f\"{output_dir}heartbeat1.txt\", xtra={'words':'heartbreak hotel'})\n",
    "put('/actions/heartbeat1', action)\n",
    "action = FileHeartbeat(file=f\"{output_dir}heartbeat2.txt\", xtra={'words':'nothing but heartaches'})\n",
    "put('/actions/heartbeat2', action)\n",
    "action = FileHeartbeat(file=f\"{output_dir}heartbeat3.txt\", xtra={'words':'heart of glass'})\n",
    "put('/actions/heartbeat3', action)\n",
    "\n",
    "scheduler = RandomlyScheduler(time_unit=TimeUnit.second, low=10, high=20)\n",
    "put('/schedulers/randomly_soon', scheduler)\n",
    "\n",
    "morning, evening = time(6,0,0), time(18,0,0)\n",
    "scheduler = TimelyScheduler(interval=1, second=0, start=morning, stop=evening)\n",
    "put('/schedulers/timely_day', scheduler)\n",
    "scheduler = TimelyScheduler(interval=1, second=0, start=evening, stop=morning)\n",
    "put('/schedulers/timely_night', scheduler)\n",
    "\n",
    "get('/schedulers/timely_day/actions/heartbeat1')\n",
    "get('/schedulers/timely_night/actions/heartbeat2')\n",
    "get('/schedulers/randomly_soon/actions/heartbeat3')"
   ]
  },
  {
   "cell_type": "code",
   "execution_count": 7,
   "metadata": {},
   "outputs": [
    {
     "output_type": "stream",
     "name": "stdout",
     "text": [
      "{ 'actions': { 'heartbeat1': { 'file': '/tmp/pyrambium/output/heartbeat1.txt',\n                               'xtra': {'words': 'heartbreak hotel'}},\n               'heartbeat2': { 'file': '/tmp/pyrambium/output/heartbeat2.txt',\n                               'xtra': {'words': 'nothing but heartaches'}},\n               'heartbeat3': { 'file': '/tmp/pyrambium/output/heartbeat3.txt',\n                               'xtra': {'words': 'heart of glass'}}},\n  'saved_dir': '/tmp/pyrambium/saved/',\n  'schedulers': { 'randomly_soon': { 'high': 20,\n                                     'low': 10,\n                                     'start': None,\n                                     'stop': None,\n                                     'time_unit': 'second'},\n                  'timely_day': { 'hour': None,\n                                  'interval': 1,\n                                  'minute': None,\n                                  'second': 0,\n                                  'start': '06:00:00',\n                                  'stop': '18:00:00'},\n                  'timely_night': { 'hour': None,\n                                    'interval': 1,\n                                    'minute': None,\n                                    'second': 0,\n                                    'start': '18:00:00',\n                                    'stop': '06:00:00'}},\n  'schedulers_actions': { 'randomly_soon': ['heartbeat3'],\n                          'timely_day': ['heartbeat1'],\n                          'timely_night': ['heartbeat2']}}\n"
     ]
    }
   ],
   "source": [
    "get('/mothership/load')"
   ]
  },
  {
   "cell_type": "code",
   "execution_count": null,
   "metadata": {},
   "outputs": [],
   "source": [
    "action = FileHeartbeat(file=f\"{output_dir}heartbeat3.txt\")\n",
    "put('/actions/heartbeat3', action)\n",
    "get('/schedulers/timely_day/actions/heartbeat3')"
   ]
  },
  {
   "cell_type": "code",
   "execution_count": null,
   "metadata": {},
   "outputs": [],
   "source": [
    "action = FileHeartbeat(file=f\"{output_dir}heartbeat4.txt\", xtra={'words':\"your cheatin' heart\"})\n",
    "put('/actions/heartbeat4', action)\n",
    "get('/schedulers/timely_day/actions/heartbeat4')"
   ]
  },
  {
   "cell_type": "code",
   "execution_count": 8,
   "metadata": {},
   "outputs": [
    {
     "output_type": "stream",
     "name": "stdout",
     "text": [
      "'started running'\n"
     ]
    }
   ],
   "source": [
    "get('/jobs/start')"
   ]
  },
  {
   "cell_type": "code",
   "execution_count": 9,
   "metadata": {},
   "outputs": [
    {
     "output_type": "stream",
     "name": "stdout",
     "text": [
      "'stopped running'\n"
     ]
    }
   ],
   "source": [
    "get('/jobs/stop')"
   ]
  },
  {
   "cell_type": "code",
   "execution_count": null,
   "metadata": {},
   "outputs": [],
   "source": [
    "get('/jobs/count')"
   ]
  },
  {
   "cell_type": "code",
   "execution_count": null,
   "metadata": {},
   "outputs": [],
   "source": [
    "get('/actions/heartbeat1/execute')"
   ]
  },
  {
   "cell_type": "code",
   "execution_count": null,
   "metadata": {},
   "outputs": [],
   "source": [
    "get('/actions/heartbeat2/execute')"
   ]
  },
  {
   "cell_type": "code",
   "execution_count": null,
   "metadata": {},
   "outputs": [],
   "source": [
    "get('/actions/heartbeat3/execute')"
   ]
  },
  {
   "cell_type": "code",
   "execution_count": null,
   "metadata": {},
   "outputs": [],
   "source": [
    "get('/actions/heartbeat4/execute')"
   ]
  },
  {
   "cell_type": "code",
   "execution_count": null,
   "metadata": {},
   "outputs": [],
   "source": [
    "get('/actions/heartbeat1')"
   ]
  },
  {
   "cell_type": "code",
   "execution_count": null,
   "metadata": {},
   "outputs": [],
   "source": [
    "get('/actions/heartbeat2')"
   ]
  },
  {
   "cell_type": "code",
   "execution_count": null,
   "metadata": {},
   "outputs": [],
   "source": [
    "get('/actions/heartbeat1')"
   ]
  },
  {
   "cell_type": "code",
   "execution_count": null,
   "metadata": {},
   "outputs": [],
   "source": [
    "get('/schedulers/timely_day/dict')"
   ]
  },
  {
   "cell_type": "code",
   "execution_count": null,
   "metadata": {},
   "outputs": [],
   "source": [
    "from fastapi import APIRouter"
   ]
  },
  {
   "cell_type": "code",
   "execution_count": null,
   "metadata": {},
   "outputs": [],
   "source": [
    "r = APIRouter()\n",
    "type(r.__dict__)"
   ]
  },
  {
   "cell_type": "code",
   "execution_count": null,
   "metadata": {},
   "outputs": [],
   "source": [
    "r.__dict__['a']=8"
   ]
  },
  {
   "cell_type": "code",
   "execution_count": null,
   "metadata": {},
   "outputs": [],
   "source": [
    "get('/mothership')"
   ]
  },
  {
   "cell_type": "code",
   "execution_count": 20,
   "metadata": {},
   "outputs": [
    {
     "output_type": "stream",
     "name": "stdout",
     "text": [
      "{ 'actions': { 'heartbeat1': { 'file': '/tmp/pyrambium/output/heartbeat1.txt',\n                               'xtra': {'words': 'heartbreak hotel'}},\n               'heartbeat2': { 'file': '/tmp/pyrambium/output/heartbeat2.txt',\n                               'xtra': {'words': 'nothing but heartaches'}},\n               'heartbeat3': { 'file': '/tmp/pyrambium/output/heartbeat3.txt',\n                               'xtra': {'words': 'heart of glass'}}},\n  'saved_dir': '/tmp/pyrambium/saved/',\n  'schedulers': { 'randomly_soon': { 'high': 20,\n                                     'low': 10,\n                                     'start': None,\n                                     'stop': None,\n                                     'time_unit': <TimeUnit.second: 'second'>},\n                  'timely_day': { 'hour': None,\n                                  'interval': 1,\n                                  'minute': None,\n                                  'second': 0,\n                                  'start': datetime.time(6, 0),\n                                  'stop': datetime.time(18, 0)},\n                  'timely_night': { 'hour': None,\n                                    'interval': 1,\n                                    'minute': None,\n                                    'second': 0,\n                                    'start': datetime.time(18, 0),\n                                    'stop': datetime.time(6, 0)}},\n  'schedulers_actions': { 'randomly_soon': ['heartbeat3'],\n                          'timely_day': ['heartbeat1'],\n                          'timely_night': ['heartbeat2']}}\n"
     ]
    }
   ],
   "source": [
    "from pyrambium.base.service.mothership import Mothership\n",
    "import json\n",
    "saved_file = '/tmp/pyrambium/saved/current.json'\n",
    "with open(saved_file, 'r') as infile:\n",
    "    j = json.load(infile)\n",
    "    d = json.loads(j)\n",
    "    x = Mothership.instantiate_from_dict(d)\n",
    "x.pprint()"
   ]
  },
  {
   "cell_type": "code",
   "execution_count": null,
   "metadata": {},
   "outputs": [],
   "source": []
  }
 ]
}