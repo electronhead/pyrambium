{
 "metadata": {
  "language_info": {
   "codemirror_mode": {
    "name": "ipython",
    "version": 3
   },
   "file_extension": ".py",
   "mimetype": "text/x-python",
   "name": "python",
   "nbconvert_exporter": "python",
   "pygments_lexer": "ipython3",
   "version": "3.9.0-final"
  },
  "orig_nbformat": 2,
  "kernelspec": {
   "name": "python3",
   "display_name": "Python 3",
   "language": "python"
  }
 },
 "nbformat": 4,
 "nbformat_minor": 2,
 "cells": [
  {
   "cell_type": "code",
   "execution_count": null,
   "metadata": {},
   "outputs": [],
   "source": [
    "\n",
    "# to test whether object identity is preserved during pickling...\n",
    "\n",
    "import pickle\n",
    "import json\n",
    "class A:\n",
    "    def __init__(self, x):\n",
    "        self.x = x\n",
    "class B:\n",
    "    def __init__(self, y, a:A):\n",
    "        self.y = y\n",
    "        self.a = a\n",
    "a1 = A(1)\n",
    "a2 = A(2)\n",
    "b1 = B(100, a1)\n",
    "b2 = B(200, a1)\n",
    "b3 = B(300, a2)\n",
    "b4 = B(400, a2)\n",
    "c1 = [a1, a2, b1, b2, b3, b4]\n",
    "foo = lambda x, i: [x[i]==a for a in [x[0], x[1], x[2].a, x[3].a, x[4].a, x[5].a]]\n",
    "d1 = foo(c1, 0)\n",
    "d2 = foo(c1, 1)\n",
    "data = pickle.dumps(c1)\n",
    "c2 = pickle.loads(data)\n",
    "e1 = foo(c2, 0)\n",
    "e2 = foo(c2, 1)\n",
    "for x in [d1, e1, d2, e2]: print(x)\n",
    "print(d1 == e1 and d2 == e2)\n"
   ]
  },
  {
   "cell_type": "code",
   "execution_count": null,
   "metadata": {},
   "outputs": [],
   "source": [
    "from netifaces import interfaces, ifaddresses, AF_INET\n",
    "for ifaceName in interfaces():\n",
    "    addresses = [i['addr'] for i in ifaddresses(ifaceName).setdefault(AF_INET, [{'addr':'No IP addr'}] )]\n",
    "    print ('%s: %s' % (ifaceName, ', '.join(addresses)))"
   ]
  },
  {
   "cell_type": "code",
   "execution_count": null,
   "metadata": {},
   "outputs": [],
   "source": [
    "from netifaces import interfaces, ifaddresses, AF_INET\n",
    "print(interfaces())\n",
    "print(ifaddresses('en0').setdefault(AF_INET))\n",
    "print(ifaddresses('en0').setdefault(AF_INET)[0]['addr'])"
   ]
  },
  {
   "cell_type": "code",
   "execution_count": null,
   "metadata": {},
   "outputs": [],
   "source": [
    "class A:\n",
    "    def __init__(self):\n",
    "        pass\n",
    "class B:\n",
    "    def __init__(self):\n",
    "        pass\n",
    "class C:\n",
    "    def __init__(self):\n",
    "        pass\n",
    "\n",
    "def u(a,b=None):\n",
    "    return Union[a,b] if b else a\n",
    "\n",
    "def s_u(lis):\n",
    "    r = Union[lis[0], lis[1]]\n",
    "    r = Union[r,lis[2]]\n",
    "    return r\n",
    "print('s_u', s_u([A,B,C]))\n",
    "\n",
    "def s_u_2(lis):\n",
    "    r = None\n",
    "    if len(lis) >=1:\n",
    "        for c in lis:\n",
    "            r = Union[r,c]\n",
    "    return r\n",
    "print('s_u_2', s_u_2([]))\n",
    "print('s_u_2', s_u_2([A]))\n",
    "print('s_u_2', s_u_2([A,B]))\n",
    "print('s_u_2', s_u_2([A,B,C]))\n",
    "\n",
    "un = lambda a, b=None: Union[a,b] if b else a\n",
    "\n",
    "print((lambda a, b: a + b)(1,2))\n",
    "print(Union[A,B])\n",
    "print(Union[A,Union[B]])\n",
    "\n",
    "print(list(u(x for x in base.Action.__subclasses__())))\n",
    "print(list((lambda a, b=None: Union[a,b] if b else a)(x for x in base.Action.__subclasses__())))\n",
    "\n",
    "def subclass_union(Class):\n",
    "    subclasses = Class.__subclasses__()\n",
    "    binary_union = lambda a, b=None: Union[a,b] if b else a\n",
    "    return binary_union(x for x in subclasses)\n",
    "print(subclass_union(base.Action))\n"
   ]
  },
  {
   "cell_type": "code",
   "execution_count": null,
   "metadata": {},
   "outputs": [],
   "source": [
    "def schedule_timely_callable(self, tag:str, callable:Callable, interval:int=1, hour:int=None, minute:int=None, second:int=None):\n",
    "    time_unit, clock_time = self.convert_args(self.hour, self.minute, self.second)\n",
    "    if time_unit == TimeUnit.day:\n",
    "        self.every(interval).day.at(clock_time).do(callable).tag(tag)\n",
    "    elif time_unit == TimeUnit.hour:\n",
    "        self.every(interval).hour.at(clock_time).do(callable).tag(tag)\n",
    "    elif time_unit == TimeUnit.minute:\n",
    "        self.every(interval).minute.at(clock_time).do(callable).tag(tag)\n",
    "    elif time_unit == TimeUnit.second:\n",
    "        self.every(interval).second.do(callable).tag(tag)\n",
    "\n",
    "def convert_args(self, hour:int, minute:int, second:int):\n",
    "    \"\"\"\n",
    "    This method converts (hour, minute, second) to a time unit.\n",
    "    \"\"\"\n",
    "    if hour:\n",
    "        if not minute:\n",
    "            minute = 0\n",
    "        if not second:\n",
    "            second = 0\n",
    "        return TimeUnit.day, f\"{hour:02}:{minute:02}:{second:02}\" # 16:15:05 on a day boundary\n",
    "    elif minute:\n",
    "        if not second:\n",
    "            second = 0\n",
    "        return TimeUnit.hour, f\":{minute:02}:{second:02}\" # :15:05 on an hour boundary\n",
    "    elif second:\n",
    "        return TimeUnit.minute, f\":{second:02}\" # :05 on a minute boundary\n",
    "    else:\n",
    "        return TimeUnit.second, None # on a second boundary\n",
    "\n",
    "def schedule_random_action(self, tag:str, callable:Callable, time_unit:TimeUnit=TimeUnit.second, low:int, high:int):\n",
    "    if time_unit == TimeUnit.second:\n",
    "        self.every(low).to(self.high).seconds.do(callable).tag(tag)\n",
    "    elif self.time_unit == TimeUnit.minute:\n",
    "        continuous.every(self.low).to(self.high).minutes.do(callable).tag(tag)\n",
    "    elif self.time_unit == TimeUnit.hour:\n",
    "        continuous.every(self.low).to(self.high).hours.do(callable).tag(tag)\n",
    "    elif self.time_unit == TimeUnit.day:\n",
    "        continuous.every(self.low).to(self.high).days.do(callable).tag(tag)"
   ]
  },
  {
   "cell_type": "code",
   "execution_count": 2,
   "metadata": {},
   "outputs": [
    {
     "output_type": "execute_result",
     "data": {
      "text/plain": [
       "'baz'"
      ]
     },
     "metadata": {},
     "execution_count": 2
    }
   ],
   "source": [
    "from collections.abc import Callable\n",
    "def foo(bar:Callable[...,...]):\n",
    "    return bar()\n",
    "\n",
    "def bar():\n",
    "    return 'baz'\n",
    "\n",
    "foo(bar)"
   ]
  },
  {
   "cell_type": "code",
   "execution_count": 1,
   "metadata": {},
   "outputs": [],
   "source": [
    "from os import environ, getenv\n",
    "class Dirs:\n",
    "    output_label = 'MOTHERSHIP_OUTPUT_DIR'\n",
    "    saved_label = 'MOTHERSHIP_OUTPUT_DIR'\n",
    "    output_default_dir='/tmp/mothership/output/'\n",
    "    saved_default_dir='/tmp/mothership/saved/'\n",
    "    @classmethod\n",
    "    def compute_dir(cls, label, default_dir):\n",
    "        dir = getenv(label)\n",
    "        if not dir:\n",
    "            dir = default_dir\n",
    "            environ[label] = dir\n",
    "        return dir\n",
    "    @classmethod\n",
    "    def output_dir(cls):\n",
    "        return cls.compute_dir(cls.output_label, cls.output_default_dir)\n",
    "    @classmethod\n",
    "    def saved_dir(cls):\n",
    "        return cls.compute_dir(cls.saved_label, cls.saved_default_dir)"
   ]
  },
  {
   "cell_type": "code",
   "execution_count": 3,
   "metadata": {},
   "outputs": [
    {
     "output_type": "execute_result",
     "data": {
      "text/plain": [
       "True"
      ]
     },
     "metadata": {},
     "execution_count": 3
    }
   ],
   "source": [
    "getenv('sdf') is None"
   ]
  },
  {
   "cell_type": "code",
   "execution_count": 5,
   "metadata": {},
   "outputs": [
    {
     "output_type": "execute_result",
     "data": {
      "text/plain": [
       "'/tmp/mothership/output/'"
      ]
     },
     "metadata": {},
     "execution_count": 5
    }
   ],
   "source": [
    "Dirs.saved_dir()"
   ]
  },
  {
   "cell_type": "code",
   "execution_count": null,
   "metadata": {},
   "outputs": [],
   "source": []
  }
 ]
}